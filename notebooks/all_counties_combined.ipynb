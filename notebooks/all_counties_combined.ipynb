{
  "nbformat": 4,
  "nbformat_minor": 0,
  "metadata": {
    "colab": {
      "provenance": [],
      "collapsed_sections": [
        "3IAp87d7CAo9"
      ]
    },
    "kernelspec": {
      "name": "python3",
      "display_name": "Python 3"
    },
    "language_info": {
      "name": "python"
    }
  },
  "cells": [
    {
      "cell_type": "code",
      "execution_count": null,
      "metadata": {
        "colab": {
          "base_uri": "https://localhost:8080/",
          "height": 176
        },
        "id": "iNWKs6W-DOt_",
        "outputId": "7116f3fd-e1d0-4811-ad9f-0185189b1565"
      },
      "outputs": [
        {
          "output_type": "stream",
          "name": "stdout",
          "text": [
            "To authorize access needed by Earth Engine, open the following URL in a web browser and follow the instructions. If the web browser does not start automatically, please manually browse the URL below.\n",
            "\n",
            "    https://code.earthengine.google.com/client-auth?scopes=https%3A//www.googleapis.com/auth/earthengine%20https%3A//www.googleapis.com/auth/devstorage.full_control&request_id=23x2I3CDj36kUVRAr7wTofnzAB0h54GPzXpk8lngZLU&tc=sfWNVbjmxhTTzMjoHOS5-GIzcNty6SGG4pF5t7OOLQw&cc=_p1cq-_WMXYjF_Y_n1EelrtngYhYakeP40_CkNiWdQo\n",
            "\n",
            "The authorization workflow will generate a code, which you should paste in the box below.\n",
            "Enter verification code: 4/1AfJohXm5FXYg9kqsDgnKdrlu-kYA4cmgAlDzm4uN9Tev6xSMzNk_nSBfD4k\n",
            "\n",
            "Successfully saved authorization token.\n"
          ]
        }
      ],
      "source": [
        "import geemap\n",
        "import ee\n",
        "import pandas as pd\n",
        "\n",
        "# Initialize the Earth Engine library.\n",
        "ee.Authenticate()"
      ]
    },
    {
      "cell_type": "markdown",
      "source": [
        "# Data Load & Preprocessing"
      ],
      "metadata": {
        "id": "fD1KhF5DEiqe"
      }
    },
    {
      "cell_type": "code",
      "source": [
        "# CHANGE THIS\n",
        "assets_path = 'projects/ee-aprilmchang/assets/'"
      ],
      "metadata": {
        "colab": {
          "base_uri": "https://localhost:8080/",
          "height": 17
        },
        "id": "ipB9qz857cUf",
        "outputId": "2fc4e98b-f6eb-4bda-a577-5316775c2eb0"
      },
      "execution_count": null,
      "outputs": [
        {
          "output_type": "display_data",
          "data": {
            "text/plain": [
              "<IPython.core.display.HTML object>"
            ],
            "text/html": [
              "\n",
              "            <style>\n",
              "                .geemap-dark {\n",
              "                    --jp-widgets-color: white;\n",
              "                    --jp-widgets-label-color: white;\n",
              "                    --jp-ui-font-color1: white;\n",
              "                    --jp-layout-color2: #454545;\n",
              "                    background-color: #383838;\n",
              "                }\n",
              "                    \n",
              "                .geemap-dark .jupyter-button {\n",
              "                    --jp-layout-color3: #383838;\n",
              "                }\n",
              "                \n",
              "                .geemap-colab {\n",
              "                    background-color: var(--colab-primary-surface-color, white);\n",
              "                }\n",
              "                    \n",
              "                .geemap-colab .jupyter-button {\n",
              "                    --jp-layout-color3: var(--colab-primary-surface-color, white);\n",
              "                }\n",
              "            </style>\n",
              "            "
            ]
          },
          "metadata": {}
        }
      ]
    },
    {
      "cell_type": "code",
      "source": [
        "ee.Initialize()\n",
        "\n",
        "# Load data from counties (except Oxnard which has a different format)\n",
        "fc_SantaMaria = ee.FeatureCollection(assets_path + 'tnc/tnc-training-data/SantaMaria')\n",
        "fc_Mendocino = ee.FeatureCollection(assets_path + 'tnc/tnc-training-data/Mendocino')\n",
        "fc_Watsonville = ee.FeatureCollection(assets_path + 'tnc/tnc-training-data/Watsonville')\n",
        "\n",
        "# Encode labels\n",
        "class_mapping = {'hoop': 0, 'mulch': 1, 'other': 2, 'green house': 3}"
      ],
      "metadata": {
        "id": "nYEeh6bd7leV"
      },
      "execution_count": null,
      "outputs": []
    },
    {
      "cell_type": "code",
      "source": [
        "# Cloud mask for Sentinel-2\n",
        "def maskS2clouds(image):\n",
        "    qa = image.select('QA60')\n",
        "    cloudBitMask = 1 << 10\n",
        "    cirrusBitMask = 1 << 11\n",
        "    mask = qa.bitwiseAnd(cloudBitMask).eq(0).And(qa.bitwiseAnd(cirrusBitMask).eq(0))\n",
        "    return image.updateMask(mask).divide(10000)\n",
        "\n",
        "def processImageCollection(imageCollection, aoi, startDate, endDate):\n",
        "    # Define functions for band calculations\n",
        "    def addNDVI(image):\n",
        "        ndvi = image.normalizedDifference(['B8', 'B4']).rename('NDVI')\n",
        "        return image.addBands(ndvi)\n",
        "\n",
        "    def addNDTI(image):\n",
        "        ndti = image.normalizedDifference(['B11', 'B12']).rename('NDTI')\n",
        "        return image.addBands(ndti)\n",
        "\n",
        "    def addPGI(image):\n",
        "        NIR = image.select('B8')\n",
        "        R = image.select('B4')\n",
        "        G = image.select('B3')\n",
        "        B = image.select('B2')\n",
        "        pgi = NIR.subtract(R).multiply(100).multiply(R).divide(NIR.add(B).add(G).divide(3).subtract(1)).rename('PGI')\n",
        "        return image.addBands(pgi)\n",
        "\n",
        "    def addPMLI(image):\n",
        "        SWIR1 = image.select('B11')\n",
        "        R = image.select('B4')\n",
        "        pmli = SWIR1.subtract(R).divide(SWIR1.add(R)).rename('PMLI')\n",
        "        return image.addBands(pmli)\n",
        "\n",
        "    def addRPGI(image):\n",
        "        NIR = image.select('B8')\n",
        "        R = image.select('B4')\n",
        "        G = image.select('B3')\n",
        "        B = image.select('B2')\n",
        "        rpgi = B.multiply(100).divide(NIR.add(B).add(G).divide(3).subtract(1)).rename('RPGI')\n",
        "        return image.addBands(rpgi)\n",
        "\n",
        "    def addDistanceToCoast(image):\n",
        "        # Load the JRC Global Surface Water dataset\n",
        "        water = ee.Image('JRC/GSW1_3/GlobalSurfaceWater').select('occurrence')\n",
        "\n",
        "        # Create a binary mask for water bodies\n",
        "        water_mask = water.gt(0)  # Greater than 0% occurrence of water\n",
        "\n",
        "        # Calculate the distance to the nearest water body\n",
        "        distance = water_mask.Not().fastDistanceTransform().sqrt().multiply(ee.Image.pixelArea().sqrt())\n",
        "\n",
        "        # Convert distance to kilometers and add as a band\n",
        "        distance = distance.divide(1000).rename('distance_to_coast')\n",
        "\n",
        "        return image.addBands(distance)\n",
        "\n",
        "    # Function to add SRTM elevation data\n",
        "    def addElevation(image):\n",
        "        elevation = ee.Image('USGS/SRTMGL1_003').rename('elevation')\n",
        "        return image.addBands(elevation)\n",
        "\n",
        "    # Apply functions to image collection\n",
        "    processedCollection = (imageCollection\n",
        "                           .filterDate(startDate, endDate)\n",
        "                           .filterBounds(aoi)\n",
        "                           .filter(ee.Filter.lt('CLOUDY_PIXEL_PERCENTAGE', 20))\n",
        "                           .map(maskS2clouds)\n",
        "                           .map(addNDVI)\n",
        "                           .map(addNDTI)\n",
        "                           .map(addPGI)\n",
        "                           .map(addPMLI)\n",
        "                          #  .map(addRPGI)\n",
        "                           .map(addDistanceToCoast)\n",
        "                           .map(addElevation))\n",
        "\n",
        "    return processedCollection"
      ],
      "metadata": {
        "colab": {
          "base_uri": "https://localhost:8080/",
          "height": 17
        },
        "id": "H4FsTe_uGSuA",
        "outputId": "6d4cc097-dd9e-4661-e1e8-950835850ca0"
      },
      "execution_count": null,
      "outputs": [
        {
          "output_type": "display_data",
          "data": {
            "text/plain": [
              "<IPython.core.display.HTML object>"
            ],
            "text/html": [
              "\n",
              "            <style>\n",
              "                .geemap-dark {\n",
              "                    --jp-widgets-color: white;\n",
              "                    --jp-widgets-label-color: white;\n",
              "                    --jp-ui-font-color1: white;\n",
              "                    --jp-layout-color2: #454545;\n",
              "                    background-color: #383838;\n",
              "                }\n",
              "                    \n",
              "                .geemap-dark .jupyter-button {\n",
              "                    --jp-layout-color3: #383838;\n",
              "                }\n",
              "                \n",
              "                .geemap-colab {\n",
              "                    background-color: var(--colab-primary-surface-color, white);\n",
              "                }\n",
              "                    \n",
              "                .geemap-colab .jupyter-button {\n",
              "                    --jp-layout-color3: var(--colab-primary-surface-color, white);\n",
              "                }\n",
              "            </style>\n",
              "            "
            ]
          },
          "metadata": {}
        }
      ]
    },
    {
      "cell_type": "code",
      "source": [
        "# Select bands for image\n",
        "bands = [\n",
        "  # Spectrum Features\n",
        "  'B4', 'B3', 'B2', 'B6', 'B8', 'B11', 'B12',\n",
        "  # Index Features\n",
        "  'NDVI', 'NDTI', 'PGI', 'PMLI',\n",
        "  # Additional Geographical features\n",
        "  'distance_to_coast', 'elevation'\n",
        "]"
      ],
      "metadata": {
        "colab": {
          "base_uri": "https://localhost:8080/",
          "height": 17
        },
        "id": "Trt-ehzwV5kt",
        "outputId": "e0fb3665-aa93-4fb0-997e-89d2b74db348"
      },
      "execution_count": null,
      "outputs": [
        {
          "output_type": "display_data",
          "data": {
            "text/plain": [
              "<IPython.core.display.HTML object>"
            ],
            "text/html": [
              "\n",
              "            <style>\n",
              "                .geemap-dark {\n",
              "                    --jp-widgets-color: white;\n",
              "                    --jp-widgets-label-color: white;\n",
              "                    --jp-ui-font-color1: white;\n",
              "                    --jp-layout-color2: #454545;\n",
              "                    background-color: #383838;\n",
              "                }\n",
              "                    \n",
              "                .geemap-dark .jupyter-button {\n",
              "                    --jp-layout-color3: #383838;\n",
              "                }\n",
              "                \n",
              "                .geemap-colab {\n",
              "                    background-color: var(--colab-primary-surface-color, white);\n",
              "                }\n",
              "                    \n",
              "                .geemap-colab .jupyter-button {\n",
              "                    --jp-layout-color3: var(--colab-primary-surface-color, white);\n",
              "                }\n",
              "            </style>\n",
              "            "
            ]
          },
          "metadata": {}
        }
      ]
    },
    {
      "cell_type": "code",
      "source": [
        "def get_collection_on_date(df, county, date, roi):\n",
        "  # Filter for date\n",
        "  df_date = df[df[\"Date\"]==date]\n",
        "\n",
        "  # Get coordinates as a list\n",
        "  points = []\n",
        "  for idx, row in df_date.iterrows():\n",
        "      point = ee.Geometry.Point([row['Longitude'], row['Latitude']])\n",
        "      feature = ee.Feature(point, {'class': row['NumericType']})\n",
        "      points.append(feature)\n",
        "\n",
        "  fc = ee.FeatureCollection(points)\n",
        "\n",
        "  # Get image for a month's range\n",
        "  date_ = datetime.strptime(date, \"%Y-%m-%d\")\n",
        "  start = (date_ - timedelta(days=10)).strftime(\"%Y-%m-%d\")\n",
        "  end = (date_ + timedelta(days=10)).strftime(\"%Y-%m-%d\")\n",
        "  processedCollection = processImageCollection(ee.ImageCollection('COPERNICUS/S2_SR_HARMONIZED'), roi, start, end)\n",
        "  image = processedCollection.median().clip(roi)\n",
        "\n",
        "  # Sample points from image\n",
        "  data = image.select(bands).sampleRegions(\n",
        "    collection=fc,\n",
        "    properties=['class'],\n",
        "    scale=30,\n",
        "    geometries=True\n",
        "  )\n",
        "\n",
        "  print(f\"Total number of labeled data for {date} in {county}:\", data.size().getInfo())\n",
        "\n",
        "  return data"
      ],
      "metadata": {
        "colab": {
          "base_uri": "https://localhost:8080/",
          "height": 17
        },
        "id": "1YTRhtcKbYNr",
        "outputId": "fce18f9e-06d6-4ee7-b77e-0a0e57400a5a"
      },
      "execution_count": null,
      "outputs": [
        {
          "output_type": "display_data",
          "data": {
            "text/plain": [
              "<IPython.core.display.HTML object>"
            ],
            "text/html": [
              "\n",
              "            <style>\n",
              "                .geemap-dark {\n",
              "                    --jp-widgets-color: white;\n",
              "                    --jp-widgets-label-color: white;\n",
              "                    --jp-ui-font-color1: white;\n",
              "                    --jp-layout-color2: #454545;\n",
              "                    background-color: #383838;\n",
              "                }\n",
              "                    \n",
              "                .geemap-dark .jupyter-button {\n",
              "                    --jp-layout-color3: #383838;\n",
              "                }\n",
              "                \n",
              "                .geemap-colab {\n",
              "                    background-color: var(--colab-primary-surface-color, white);\n",
              "                }\n",
              "                    \n",
              "                .geemap-colab .jupyter-button {\n",
              "                    --jp-layout-color3: var(--colab-primary-surface-color, white);\n",
              "                }\n",
              "            </style>\n",
              "            "
            ]
          },
          "metadata": {}
        }
      ]
    },
    {
      "cell_type": "code",
      "source": [
        "from datetime import datetime, timedelta\n",
        "\n",
        "class_mapping = {'hoop': 0, 'mulch': 1, 'other': 2, 'green house': 3}\n",
        "\n",
        "def processCountyFeatureCollection(fc, county):\n",
        "  # Make dataframe\n",
        "  dict_list = [feat['properties'] for feat in fc.getInfo()['features']]\n",
        "  df = pd.DataFrame(dict_list)\n",
        "\n",
        "  # Encode labels\n",
        "  df['NumericType'] = df['Type'].map(class_mapping)\n",
        "\n",
        "  # Drop green house type (for now)\n",
        "  df = df[df[\"Type\"]!=\"green house\"]\n",
        "\n",
        "  # Format dates to YYYY-MM-DD\n",
        "  df['Date'] = pd.to_datetime(df['Date']).dt.strftime('%Y-%m-%d')\n",
        "\n",
        "  # Filter for dates when Sentinel-2 is available\n",
        "  df = df[df['Date'] > '2018-05-09']\n",
        "\n",
        "  # County boundaries based off csv coordinates\n",
        "  min_lon = df['Longitude'].min()\n",
        "  max_lon = df['Longitude'].max()\n",
        "  min_lat = df['Latitude'].min()\n",
        "  max_lat = df['Latitude'].max()\n",
        "\n",
        "  roi = ee.Geometry.Rectangle([min_lon, min_lat, max_lon, max_lat])\n",
        "\n",
        "  # Iterate through unique dates\n",
        "  dates = df[\"Date\"].unique()\n",
        "  all_county_data = []\n",
        "  for date in dates:\n",
        "    all_county_data.append(get_collection_on_date(df, county, date, roi))\n",
        "  county_fc = ee.FeatureCollection(all_county_data).flatten()\n",
        "  print(f\"Total number of labeled data in {county}:\", county_fc.size().getInfo())\n",
        "  return county_fc"
      ],
      "metadata": {
        "colab": {
          "base_uri": "https://localhost:8080/",
          "height": 17
        },
        "id": "f-39Xk2msUqp",
        "outputId": "9eb63a8e-f507-49c5-d6ca-62f86a20ade7"
      },
      "execution_count": null,
      "outputs": [
        {
          "output_type": "display_data",
          "data": {
            "text/plain": [
              "<IPython.core.display.HTML object>"
            ],
            "text/html": [
              "\n",
              "            <style>\n",
              "                .geemap-dark {\n",
              "                    --jp-widgets-color: white;\n",
              "                    --jp-widgets-label-color: white;\n",
              "                    --jp-ui-font-color1: white;\n",
              "                    --jp-layout-color2: #454545;\n",
              "                    background-color: #383838;\n",
              "                }\n",
              "                    \n",
              "                .geemap-dark .jupyter-button {\n",
              "                    --jp-layout-color3: #383838;\n",
              "                }\n",
              "                \n",
              "                .geemap-colab {\n",
              "                    background-color: var(--colab-primary-surface-color, white);\n",
              "                }\n",
              "                    \n",
              "                .geemap-colab .jupyter-button {\n",
              "                    --jp-layout-color3: var(--colab-primary-surface-color, white);\n",
              "                }\n",
              "            </style>\n",
              "            "
            ]
          },
          "metadata": {}
        }
      ]
    },
    {
      "cell_type": "code",
      "source": [
        "data_SantaMaria = processCountyFeatureCollection(fc_SantaMaria, \"Santa Maria\")"
      ],
      "metadata": {
        "colab": {
          "base_uri": "https://localhost:8080/",
          "height": 104
        },
        "id": "VAr3WgDZ5rbV",
        "outputId": "18f86af7-2152-4897-de40-1b6561880ebf"
      },
      "execution_count": null,
      "outputs": [
        {
          "output_type": "display_data",
          "data": {
            "text/plain": [
              "<IPython.core.display.HTML object>"
            ],
            "text/html": [
              "\n",
              "            <style>\n",
              "                .geemap-dark {\n",
              "                    --jp-widgets-color: white;\n",
              "                    --jp-widgets-label-color: white;\n",
              "                    --jp-ui-font-color1: white;\n",
              "                    --jp-layout-color2: #454545;\n",
              "                    background-color: #383838;\n",
              "                }\n",
              "                    \n",
              "                .geemap-dark .jupyter-button {\n",
              "                    --jp-layout-color3: #383838;\n",
              "                }\n",
              "                \n",
              "                .geemap-colab {\n",
              "                    background-color: var(--colab-primary-surface-color, white);\n",
              "                }\n",
              "                    \n",
              "                .geemap-colab .jupyter-button {\n",
              "                    --jp-layout-color3: var(--colab-primary-surface-color, white);\n",
              "                }\n",
              "            </style>\n",
              "            "
            ]
          },
          "metadata": {}
        },
        {
          "output_type": "stream",
          "name": "stdout",
          "text": [
            "Total number of labeled data for 2022-08-26 in Santa Maria: 154\n",
            "Total number of labeled data for 2023-05-05 in Santa Maria: 341\n",
            "Total number of labeled data for 2022-03-10 in Santa Maria: 307\n",
            "Total number of labeled data for 2021-02-06 in Santa Maria: 151\n",
            "Total number of labeled data in Santa Maria: 953\n"
          ]
        }
      ]
    },
    {
      "cell_type": "code",
      "source": [
        "data_Mendocino = processCountyFeatureCollection(fc_Mendocino, \"Mendocino\")"
      ],
      "metadata": {
        "colab": {
          "base_uri": "https://localhost:8080/",
          "height": 52
        },
        "id": "jI4w_UYKxxl9",
        "outputId": "0e306312-c797-4f2d-eec5-53d00d6a8119"
      },
      "execution_count": null,
      "outputs": [
        {
          "output_type": "display_data",
          "data": {
            "text/plain": [
              "<IPython.core.display.HTML object>"
            ],
            "text/html": [
              "\n",
              "            <style>\n",
              "                .geemap-dark {\n",
              "                    --jp-widgets-color: white;\n",
              "                    --jp-widgets-label-color: white;\n",
              "                    --jp-ui-font-color1: white;\n",
              "                    --jp-layout-color2: #454545;\n",
              "                    background-color: #383838;\n",
              "                }\n",
              "                    \n",
              "                .geemap-dark .jupyter-button {\n",
              "                    --jp-layout-color3: #383838;\n",
              "                }\n",
              "                \n",
              "                .geemap-colab {\n",
              "                    background-color: var(--colab-primary-surface-color, white);\n",
              "                }\n",
              "                    \n",
              "                .geemap-colab .jupyter-button {\n",
              "                    --jp-layout-color3: var(--colab-primary-surface-color, white);\n",
              "                }\n",
              "            </style>\n",
              "            "
            ]
          },
          "metadata": {}
        },
        {
          "output_type": "stream",
          "name": "stdout",
          "text": [
            "Total number of labeled data for 2021-06-02 in Mendocino: 263\n",
            "Total number of labeled data in Mendocino: 263\n"
          ]
        }
      ]
    },
    {
      "cell_type": "code",
      "source": [
        "data_Watsonville = processCountyFeatureCollection(fc_Watsonville, \"Watsonville\")"
      ],
      "metadata": {
        "colab": {
          "base_uri": "https://localhost:8080/",
          "height": 104
        },
        "id": "UVAsaZODyn1R",
        "outputId": "266aafaa-82bc-4e23-f8eb-97580ad6a3c1"
      },
      "execution_count": null,
      "outputs": [
        {
          "output_type": "display_data",
          "data": {
            "text/plain": [
              "<IPython.core.display.HTML object>"
            ],
            "text/html": [
              "\n",
              "            <style>\n",
              "                .geemap-dark {\n",
              "                    --jp-widgets-color: white;\n",
              "                    --jp-widgets-label-color: white;\n",
              "                    --jp-ui-font-color1: white;\n",
              "                    --jp-layout-color2: #454545;\n",
              "                    background-color: #383838;\n",
              "                }\n",
              "                    \n",
              "                .geemap-dark .jupyter-button {\n",
              "                    --jp-layout-color3: #383838;\n",
              "                }\n",
              "                \n",
              "                .geemap-colab {\n",
              "                    background-color: var(--colab-primary-surface-color, white);\n",
              "                }\n",
              "                    \n",
              "                .geemap-colab .jupyter-button {\n",
              "                    --jp-layout-color3: var(--colab-primary-surface-color, white);\n",
              "                }\n",
              "            </style>\n",
              "            "
            ]
          },
          "metadata": {}
        },
        {
          "output_type": "stream",
          "name": "stdout",
          "text": [
            "Total number of labeled data for 2020-09-26 in Watsonville: 405\n",
            "Total number of labeled data for 2021-09-27 in Watsonville: 452\n",
            "Total number of labeled data for 2022-09-11 in Watsonville: 489\n",
            "Total number of labeled data for 2023-04-12 in Watsonville: 477\n",
            "Total number of labeled data in Watsonville: 1823\n"
          ]
        }
      ]
    },
    {
      "cell_type": "code",
      "source": [
        "# Load data from Oxnard\n",
        "START = '2019-02-01'\n",
        "END = '2019-06-01'\n",
        "\n",
        "Boundary_Oxnard = ee.FeatureCollection(assets_path + 'tnc/Oxnard')\n",
        "polygons_label_mulch_hoop = ee.FeatureCollection(assets_path + 'tnc/tnc-training-data/label_mulch_hoop')\n",
        "polygons_label_nonplastic = ee.FeatureCollection(assets_path + 'tnc/tnc-training-data/label_nonplastic')\n",
        "polygons = polygons_label_mulch_hoop.merge(polygons_label_nonplastic)\n",
        "aoi_truck_crop = ee.FeatureCollection(assets_path + 'tnc/TruckCrops')"
      ],
      "metadata": {
        "colab": {
          "base_uri": "https://localhost:8080/",
          "height": 17
        },
        "id": "vV16YWklhRQQ",
        "outputId": "3ead6957-ce8c-4bbd-8561-f375081798ae"
      },
      "execution_count": null,
      "outputs": [
        {
          "output_type": "display_data",
          "data": {
            "text/plain": [
              "<IPython.core.display.HTML object>"
            ],
            "text/html": [
              "\n",
              "            <style>\n",
              "                .geemap-dark {\n",
              "                    --jp-widgets-color: white;\n",
              "                    --jp-widgets-label-color: white;\n",
              "                    --jp-ui-font-color1: white;\n",
              "                    --jp-layout-color2: #454545;\n",
              "                    background-color: #383838;\n",
              "                }\n",
              "                    \n",
              "                .geemap-dark .jupyter-button {\n",
              "                    --jp-layout-color3: #383838;\n",
              "                }\n",
              "                \n",
              "                .geemap-colab {\n",
              "                    background-color: var(--colab-primary-surface-color, white);\n",
              "                }\n",
              "                    \n",
              "                .geemap-colab .jupyter-button {\n",
              "                    --jp-layout-color3: var(--colab-primary-surface-color, white);\n",
              "                }\n",
              "            </style>\n",
              "            "
            ]
          },
          "metadata": {}
        }
      ]
    },
    {
      "cell_type": "code",
      "source": [
        "processedCollection = processImageCollection(ee.ImageCollection('COPERNICUS/S2_SR_HARMONIZED'), Boundary_Oxnard, START, END)\n",
        "image = processedCollection.median().clip(aoi_truck_crop).clip(Boundary_Oxnard)\n",
        "data_Oxnard = image.sampleRegions(\n",
        "    collection=polygons,\n",
        "    properties=['class'],\n",
        "    scale=30,\n",
        "    geometries=True\n",
        ")\n",
        "print(f\"Total number of labeled data in Oxnard:\", data_Oxnard.size().getInfo())"
      ],
      "metadata": {
        "colab": {
          "base_uri": "https://localhost:8080/",
          "height": 34
        },
        "id": "tWzgxRoshTo3",
        "outputId": "39972f87-909b-4035-ba1a-4dbffe50387d"
      },
      "execution_count": null,
      "outputs": [
        {
          "output_type": "display_data",
          "data": {
            "text/plain": [
              "<IPython.core.display.HTML object>"
            ],
            "text/html": [
              "\n",
              "            <style>\n",
              "                .geemap-dark {\n",
              "                    --jp-widgets-color: white;\n",
              "                    --jp-widgets-label-color: white;\n",
              "                    --jp-ui-font-color1: white;\n",
              "                    --jp-layout-color2: #454545;\n",
              "                    background-color: #383838;\n",
              "                }\n",
              "                    \n",
              "                .geemap-dark .jupyter-button {\n",
              "                    --jp-layout-color3: #383838;\n",
              "                }\n",
              "                \n",
              "                .geemap-colab {\n",
              "                    background-color: var(--colab-primary-surface-color, white);\n",
              "                }\n",
              "                    \n",
              "                .geemap-colab .jupyter-button {\n",
              "                    --jp-layout-color3: var(--colab-primary-surface-color, white);\n",
              "                }\n",
              "            </style>\n",
              "            "
            ]
          },
          "metadata": {}
        },
        {
          "output_type": "stream",
          "name": "stdout",
          "text": [
            "Total number of labeled data in Oxnard: 2125\n"
          ]
        }
      ]
    },
    {
      "cell_type": "code",
      "source": [
        "# Combine all data\n",
        "all_data = []\n",
        "all_data.append(data_SantaMaria)\n",
        "all_data.append(data_Mendocino)\n",
        "all_data.append(data_Watsonville)\n",
        "all_data.append(data_Oxnard)"
      ],
      "metadata": {
        "colab": {
          "base_uri": "https://localhost:8080/",
          "height": 17
        },
        "id": "o7So-vXY4wLA",
        "outputId": "7306dcd9-dd29-44d5-8c4b-9200e8b52bf1"
      },
      "execution_count": null,
      "outputs": [
        {
          "output_type": "display_data",
          "data": {
            "text/plain": [
              "<IPython.core.display.HTML object>"
            ],
            "text/html": [
              "\n",
              "            <style>\n",
              "                .geemap-dark {\n",
              "                    --jp-widgets-color: white;\n",
              "                    --jp-widgets-label-color: white;\n",
              "                    --jp-ui-font-color1: white;\n",
              "                    --jp-layout-color2: #454545;\n",
              "                    background-color: #383838;\n",
              "                }\n",
              "                    \n",
              "                .geemap-dark .jupyter-button {\n",
              "                    --jp-layout-color3: #383838;\n",
              "                }\n",
              "                \n",
              "                .geemap-colab {\n",
              "                    background-color: var(--colab-primary-surface-color, white);\n",
              "                }\n",
              "                    \n",
              "                .geemap-colab .jupyter-button {\n",
              "                    --jp-layout-color3: var(--colab-primary-surface-color, white);\n",
              "                }\n",
              "            </style>\n",
              "            "
            ]
          },
          "metadata": {}
        }
      ]
    },
    {
      "cell_type": "markdown",
      "source": [
        "# Prepare Train and Validation data"
      ],
      "metadata": {
        "id": "yskLSk4uEuey"
      }
    },
    {
      "cell_type": "code",
      "source": [
        "# Process data (1): Train test split\n",
        "data = ee.FeatureCollection(all_data).flatten().randomColumn(seed=0)\n",
        "print(f\"Total number of labeled data:\", data.size().getInfo())\n",
        "split = 0.7\n",
        "training = data.filter(ee.Filter.lt('random', split))\n",
        "validation = data.filter(ee.Filter.gte('random', split))\n",
        "print(f\"Number of training: {training.size().getInfo()}\")\n",
        "print(f\"Number of validation: {validation.size().getInfo()}\")"
      ],
      "metadata": {
        "colab": {
          "base_uri": "https://localhost:8080/",
          "height": 69
        },
        "id": "8gFGTlP9gAq2",
        "outputId": "a3fed06c-23e7-4997-d0c2-78afabdd160f"
      },
      "execution_count": null,
      "outputs": [
        {
          "output_type": "display_data",
          "data": {
            "text/plain": [
              "<IPython.core.display.HTML object>"
            ],
            "text/html": [
              "\n",
              "            <style>\n",
              "                .geemap-dark {\n",
              "                    --jp-widgets-color: white;\n",
              "                    --jp-widgets-label-color: white;\n",
              "                    --jp-ui-font-color1: white;\n",
              "                    --jp-layout-color2: #454545;\n",
              "                    background-color: #383838;\n",
              "                }\n",
              "                    \n",
              "                .geemap-dark .jupyter-button {\n",
              "                    --jp-layout-color3: #383838;\n",
              "                }\n",
              "                \n",
              "                .geemap-colab {\n",
              "                    background-color: var(--colab-primary-surface-color, white);\n",
              "                }\n",
              "                    \n",
              "                .geemap-colab .jupyter-button {\n",
              "                    --jp-layout-color3: var(--colab-primary-surface-color, white);\n",
              "                }\n",
              "            </style>\n",
              "            "
            ]
          },
          "metadata": {}
        },
        {
          "output_type": "stream",
          "name": "stdout",
          "text": [
            "Total number of labeled data: 5164\n",
            "Number of training: 3659\n",
            "Number of validation: 1505\n"
          ]
        }
      ]
    },
    {
      "cell_type": "code",
      "source": [
        "# Check number of data in each county\n",
        "filter_SantaMaria = ee.Filter.stringStartsWith('system:index', '0')\n",
        "filter_Mendocino = ee.Filter.stringStartsWith('system:index', '1')\n",
        "filter_Watsonville = ee.Filter.stringStartsWith('system:index', '2')\n",
        "filter_Oxnard = ee.Filter.stringStartsWith('system:index', '3')\n",
        "print(f\"Number of training in Santa Maria: {training.filter(filter_SantaMaria).size().getInfo()}\")\n",
        "print(f\"Number of training in Mendocino: {training.filter(filter_Mendocino).size().getInfo()}\")\n",
        "print(f\"Number of training in Watsonville: {training.filter(filter_Watsonville).size().getInfo()}\")\n",
        "print(f\"Number of training in Oxnard: {training.filter(filter_Oxnard).size().getInfo()}\")\n",
        "print(f\"Number of validation in Santa Maria: {validation.filter(filter_SantaMaria).size().getInfo()}\")\n",
        "print(f\"Number of validation in Mendocino: {validation.filter(filter_Mendocino).size().getInfo()}\")\n",
        "print(f\"Number of validation in Watsonville: {validation.filter(filter_Watsonville).size().getInfo()}\")\n",
        "print(f\"Number of validation in Oxnard: {validation.filter(filter_Oxnard).size().getInfo()}\")"
      ],
      "metadata": {
        "colab": {
          "base_uri": "https://localhost:8080/",
          "height": 156
        },
        "id": "45FeXSRV189h",
        "outputId": "a790a801-2cec-4d2a-b3d0-76d28377e25a"
      },
      "execution_count": null,
      "outputs": [
        {
          "output_type": "display_data",
          "data": {
            "text/plain": [
              "<IPython.core.display.HTML object>"
            ],
            "text/html": [
              "\n",
              "            <style>\n",
              "                .geemap-dark {\n",
              "                    --jp-widgets-color: white;\n",
              "                    --jp-widgets-label-color: white;\n",
              "                    --jp-ui-font-color1: white;\n",
              "                    --jp-layout-color2: #454545;\n",
              "                    background-color: #383838;\n",
              "                }\n",
              "                    \n",
              "                .geemap-dark .jupyter-button {\n",
              "                    --jp-layout-color3: #383838;\n",
              "                }\n",
              "                \n",
              "                .geemap-colab {\n",
              "                    background-color: var(--colab-primary-surface-color, white);\n",
              "                }\n",
              "                    \n",
              "                .geemap-colab .jupyter-button {\n",
              "                    --jp-layout-color3: var(--colab-primary-surface-color, white);\n",
              "                }\n",
              "            </style>\n",
              "            "
            ]
          },
          "metadata": {}
        },
        {
          "output_type": "stream",
          "name": "stdout",
          "text": [
            "Number of training in Santa Maria: 666\n",
            "Number of training in Mendocino: 187\n",
            "Number of training in Watsonville: 1326\n",
            "Number of training in Oxnard: 1480\n",
            "Number of validation in Santa Maria: 287\n",
            "Number of validation in Mendocino: 76\n",
            "Number of validation in Watsonville: 497\n",
            "Number of validation in Oxnard: 645\n"
          ]
        }
      ]
    },
    {
      "cell_type": "code",
      "source": [
        "# Process data (2): Address autocorrelation correction\n",
        "distFilter = ee.Filter.withinDistance(\n",
        "    distance=30,\n",
        "    leftField='.geo',\n",
        "    rightField='.geo',\n",
        "    maxError=10\n",
        ")\n",
        "join = ee.Join.inverted()\n",
        "training = join.apply(training, validation, distFilter)\n",
        "print(f\"Number of training after removing autocorrelation: {training.size().getInfo()}\")"
      ],
      "metadata": {
        "colab": {
          "base_uri": "https://localhost:8080/",
          "height": 34
        },
        "id": "5b10_-1RmYqm",
        "outputId": "97e17534-e6ac-4785-ddd9-833a0dec2a72"
      },
      "execution_count": null,
      "outputs": [
        {
          "output_type": "display_data",
          "data": {
            "text/plain": [
              "<IPython.core.display.HTML object>"
            ],
            "text/html": [
              "\n",
              "            <style>\n",
              "                .geemap-dark {\n",
              "                    --jp-widgets-color: white;\n",
              "                    --jp-widgets-label-color: white;\n",
              "                    --jp-ui-font-color1: white;\n",
              "                    --jp-layout-color2: #454545;\n",
              "                    background-color: #383838;\n",
              "                }\n",
              "                    \n",
              "                .geemap-dark .jupyter-button {\n",
              "                    --jp-layout-color3: #383838;\n",
              "                }\n",
              "                \n",
              "                .geemap-colab {\n",
              "                    background-color: var(--colab-primary-surface-color, white);\n",
              "                }\n",
              "                    \n",
              "                .geemap-colab .jupyter-button {\n",
              "                    --jp-layout-color3: var(--colab-primary-surface-color, white);\n",
              "                }\n",
              "            </style>\n",
              "            "
            ]
          },
          "metadata": {}
        },
        {
          "output_type": "stream",
          "name": "stdout",
          "text": [
            "Number of training after removing autocorrelation: 2049\n"
          ]
        }
      ]
    },
    {
      "cell_type": "code",
      "source": [
        "# Check number of training data in each region again\n",
        "print(f\"Number of training in Santa Maria: {training.filter(filter_SantaMaria).size().getInfo()}\")\n",
        "print(f\"Number of training in Mendocino: {training.filter(filter_Mendocino).size().getInfo()}\")\n",
        "print(f\"Number of training in Watsonville: {training.filter(filter_Watsonville).size().getInfo()}\")\n",
        "print(f\"Number of training in Oxnard: {training.filter(filter_Oxnard).size().getInfo()}\")"
      ],
      "metadata": {
        "colab": {
          "base_uri": "https://localhost:8080/",
          "height": 86
        },
        "id": "8RXLBSNW3N1J",
        "outputId": "d00d4cac-7bfc-4bd3-82bb-7bbf2778850b"
      },
      "execution_count": null,
      "outputs": [
        {
          "output_type": "display_data",
          "data": {
            "text/plain": [
              "<IPython.core.display.HTML object>"
            ],
            "text/html": [
              "\n",
              "            <style>\n",
              "                .geemap-dark {\n",
              "                    --jp-widgets-color: white;\n",
              "                    --jp-widgets-label-color: white;\n",
              "                    --jp-ui-font-color1: white;\n",
              "                    --jp-layout-color2: #454545;\n",
              "                    background-color: #383838;\n",
              "                }\n",
              "                    \n",
              "                .geemap-dark .jupyter-button {\n",
              "                    --jp-layout-color3: #383838;\n",
              "                }\n",
              "                \n",
              "                .geemap-colab {\n",
              "                    background-color: var(--colab-primary-surface-color, white);\n",
              "                }\n",
              "                    \n",
              "                .geemap-colab .jupyter-button {\n",
              "                    --jp-layout-color3: var(--colab-primary-surface-color, white);\n",
              "                }\n",
              "            </style>\n",
              "            "
            ]
          },
          "metadata": {}
        },
        {
          "output_type": "stream",
          "name": "stdout",
          "text": [
            "Number of training in Santa Maria: 629\n",
            "Number of training in Mendocino: 84\n",
            "Number of training in Watsonville: 873\n",
            "Number of training in Oxnard: 463\n"
          ]
        }
      ]
    },
    {
      "cell_type": "code",
      "source": [
        "for class_name, class_id in class_mapping.items():\n",
        "  filter_class = ee.Filter.eq('class', class_id)\n",
        "  print(f\"Number of points labeled {class_name}: {training.filter(filter_class).size().getInfo()}\")"
      ],
      "metadata": {
        "colab": {
          "base_uri": "https://localhost:8080/",
          "height": 86
        },
        "id": "hyriYyYlHe8A",
        "outputId": "f65c3ecd-e70c-4c90-9278-d45f722ef2a6"
      },
      "execution_count": null,
      "outputs": [
        {
          "output_type": "display_data",
          "data": {
            "text/plain": [
              "<IPython.core.display.HTML object>"
            ],
            "text/html": [
              "\n",
              "            <style>\n",
              "                .geemap-dark {\n",
              "                    --jp-widgets-color: white;\n",
              "                    --jp-widgets-label-color: white;\n",
              "                    --jp-ui-font-color1: white;\n",
              "                    --jp-layout-color2: #454545;\n",
              "                    background-color: #383838;\n",
              "                }\n",
              "                    \n",
              "                .geemap-dark .jupyter-button {\n",
              "                    --jp-layout-color3: #383838;\n",
              "                }\n",
              "                \n",
              "                .geemap-colab {\n",
              "                    background-color: var(--colab-primary-surface-color, white);\n",
              "                }\n",
              "                    \n",
              "                .geemap-colab .jupyter-button {\n",
              "                    --jp-layout-color3: var(--colab-primary-surface-color, white);\n",
              "                }\n",
              "            </style>\n",
              "            "
            ]
          },
          "metadata": {}
        },
        {
          "output_type": "stream",
          "name": "stdout",
          "text": [
            "Number of points labeled hoop: 562\n",
            "Number of points labeled mulch: 553\n",
            "Number of points labeled other: 934\n",
            "Number of points labeled green house: 0\n"
          ]
        }
      ]
    },
    {
      "cell_type": "markdown",
      "source": [
        "# Train and Evaluate Models"
      ],
      "metadata": {
        "id": "RWr5yAkAFH_r"
      }
    },
    {
      "cell_type": "code",
      "source": [
        "def train_model(classifier, training, bands):\n",
        "  trained_classifier = classifier.train(training, 'class', bands)\n",
        "  return trained_classifier, trained_classifier.confusionMatrix()\n",
        "def evaluate_model(trained_classifier, validation):\n",
        "  classifications = validation.classify(trained_classifier)\n",
        "  return classifications, classifications.errorMatrix('class', 'classification')"
      ],
      "metadata": {
        "colab": {
          "base_uri": "https://localhost:8080/",
          "height": 17
        },
        "id": "cvQTb8vsHjKB",
        "outputId": "cb44b3d8-ebb5-4236-c3b0-9fbf63ab3ae1"
      },
      "execution_count": null,
      "outputs": [
        {
          "output_type": "display_data",
          "data": {
            "text/plain": [
              "<IPython.core.display.HTML object>"
            ],
            "text/html": [
              "\n",
              "            <style>\n",
              "                .geemap-dark {\n",
              "                    --jp-widgets-color: white;\n",
              "                    --jp-widgets-label-color: white;\n",
              "                    --jp-ui-font-color1: white;\n",
              "                    --jp-layout-color2: #454545;\n",
              "                    background-color: #383838;\n",
              "                }\n",
              "                    \n",
              "                .geemap-dark .jupyter-button {\n",
              "                    --jp-layout-color3: #383838;\n",
              "                }\n",
              "                \n",
              "                .geemap-colab {\n",
              "                    background-color: var(--colab-primary-surface-color, white);\n",
              "                }\n",
              "                    \n",
              "                .geemap-colab .jupyter-button {\n",
              "                    --jp-layout-color3: var(--colab-primary-surface-color, white);\n",
              "                }\n",
              "            </style>\n",
              "            "
            ]
          },
          "metadata": {}
        }
      ]
    },
    {
      "cell_type": "code",
      "source": [
        "# Define image bands\n",
        "bands = ['B4', 'B3', 'B2', 'B6', 'B8', 'B11', 'B12',\n",
        "  'NDVI', 'NDTI', 'PGI', 'PMLI']"
      ],
      "metadata": {
        "colab": {
          "base_uri": "https://localhost:8080/",
          "height": 17
        },
        "id": "WvFYA737aOBT",
        "outputId": "6e4c70d5-c496-48c9-80d9-a16c29d4354f"
      },
      "execution_count": null,
      "outputs": [
        {
          "output_type": "display_data",
          "data": {
            "text/plain": [
              "<IPython.core.display.HTML object>"
            ],
            "text/html": [
              "\n",
              "            <style>\n",
              "                .geemap-dark {\n",
              "                    --jp-widgets-color: white;\n",
              "                    --jp-widgets-label-color: white;\n",
              "                    --jp-ui-font-color1: white;\n",
              "                    --jp-layout-color2: #454545;\n",
              "                    background-color: #383838;\n",
              "                }\n",
              "                    \n",
              "                .geemap-dark .jupyter-button {\n",
              "                    --jp-layout-color3: #383838;\n",
              "                }\n",
              "                \n",
              "                .geemap-colab {\n",
              "                    background-color: var(--colab-primary-surface-color, white);\n",
              "                }\n",
              "                    \n",
              "                .geemap-colab .jupyter-button {\n",
              "                    --jp-layout-color3: var(--colab-primary-surface-color, white);\n",
              "                }\n",
              "            </style>\n",
              "            "
            ]
          },
          "metadata": {}
        }
      ]
    },
    {
      "cell_type": "code",
      "source": [
        "# Accuracy for Model 1: SVM\n",
        "trained_SVM, trainAccuracy_SVM = train_model(ee.Classifier.libsvm(kernelType='RBF', gamma=0.5, cost=10), training, bands)\n",
        "_, validationAccuracy_SVM = evaluate_model(trained_SVM, validation)\n",
        "print(\"SVM:\")\n",
        "print(f\"\\tTraining accuracy:{trainAccuracy_SVM.accuracy().getInfo()}\")\n",
        "print(f\"\\tValidation accuracy:{validationAccuracy_SVM.accuracy().getInfo()}\")\n",
        "\n",
        "# Accuracy for Model 2: CART\n",
        "trained_CART, trainAccuracy_CART = train_model(ee.Classifier.smileCart(), training, bands)\n",
        "_, validationAccuracy_CART = evaluate_model(trained_CART, validation)\n",
        "print(\"CART:\")\n",
        "print(f\"\\tTraining accuracy:{trainAccuracy_CART.accuracy().getInfo()}\")\n",
        "print(f\"\\tValidation accuracy:{validationAccuracy_CART.accuracy().getInfo()}\")\n",
        "\n",
        "# Accuracy for Model 3: RF\n",
        "trained_RF, trainAccuracy_RF = train_model(ee.Classifier.smileRandomForest(50), training, bands)\n",
        "classifications_RF, validationAccuracy_RF = evaluate_model(trained_RF, validation)\n",
        "print(\"RF:\")\n",
        "print(f\"\\tTraining accuracy:{trainAccuracy_RF.accuracy().getInfo()}\")\n",
        "print(f\"\\tValidation accuracy:{validationAccuracy_RF.accuracy().getInfo()}\")\n",
        "\n",
        "# Accuracy for Model 4: GTB\n",
        "trained_GTB, trainAccuracy_GTB = train_model(ee.Classifier.smileGradientTreeBoost(50), training, bands)\n",
        "classifications_GTB, validationAccuracy_GTB = evaluate_model(trained_GTB, validation)\n",
        "print(\"GTB:\")\n",
        "print(f\"\\tTraining accuracy:{trainAccuracy_GTB.accuracy().getInfo()}\")\n",
        "print(f\"\\tValidation accuracy:{validationAccuracy_GTB.accuracy().getInfo()}\")\n"
      ],
      "metadata": {
        "colab": {
          "base_uri": "https://localhost:8080/",
          "height": 225
        },
        "id": "7VNEp_3TZPHV",
        "outputId": "b662c74a-c0bf-4289-f7e0-c97a9108a1e0"
      },
      "execution_count": null,
      "outputs": [
        {
          "output_type": "display_data",
          "data": {
            "text/plain": [
              "<IPython.core.display.HTML object>"
            ],
            "text/html": [
              "\n",
              "            <style>\n",
              "                .geemap-dark {\n",
              "                    --jp-widgets-color: white;\n",
              "                    --jp-widgets-label-color: white;\n",
              "                    --jp-ui-font-color1: white;\n",
              "                    --jp-layout-color2: #454545;\n",
              "                    background-color: #383838;\n",
              "                }\n",
              "                    \n",
              "                .geemap-dark .jupyter-button {\n",
              "                    --jp-layout-color3: #383838;\n",
              "                }\n",
              "                \n",
              "                .geemap-colab {\n",
              "                    background-color: var(--colab-primary-surface-color, white);\n",
              "                }\n",
              "                    \n",
              "                .geemap-colab .jupyter-button {\n",
              "                    --jp-layout-color3: var(--colab-primary-surface-color, white);\n",
              "                }\n",
              "            </style>\n",
              "            "
            ]
          },
          "metadata": {}
        },
        {
          "output_type": "stream",
          "name": "stdout",
          "text": [
            "SVM:\n",
            "\tTraining accuracy:0.8228404099560761\n",
            "\tValidation accuracy:0.8119601328903654\n",
            "CART:\n",
            "\tTraining accuracy:1\n",
            "\tValidation accuracy:0.8385382059800665\n",
            "RF:\n",
            "\tTraining accuracy:0.995119570522206\n",
            "\tValidation accuracy:0.892358803986711\n",
            "GTB:\n",
            "\tTraining accuracy:0.9731576378721327\n",
            "\tValidation accuracy:0.8770764119601329\n"
          ]
        }
      ]
    },
    {
      "cell_type": "code",
      "source": [
        "import numpy as np\n",
        "import matplotlib.pyplot as plt\n",
        "\n",
        "# Accuracy values\n",
        "model_names = [\"SVM\", \"CART\", \"RF\", \"GTB\"]\n",
        "train_accuracies = [trainAccuracy_SVM.accuracy().getInfo(),\n",
        "                   trainAccuracy_CART.accuracy().getInfo(),\n",
        "                   trainAccuracy_RF.accuracy().getInfo(),\n",
        "                   trainAccuracy_GTB.accuracy().getInfo()]\n",
        "validation_accuracies = [validationAccuracy_SVM.accuracy().getInfo(),\n",
        "                        validationAccuracy_CART.accuracy().getInfo(),\n",
        "                        validationAccuracy_RF.accuracy().getInfo(),\n",
        "                        validationAccuracy_GTB.accuracy().getInfo()]"
      ],
      "metadata": {
        "colab": {
          "base_uri": "https://localhost:8080/",
          "height": 17
        },
        "id": "vLROS1fSiBkK",
        "outputId": "d2a48e35-af31-4edc-943b-9306f5a0d9ca"
      },
      "execution_count": null,
      "outputs": [
        {
          "output_type": "display_data",
          "data": {
            "text/plain": [
              "<IPython.core.display.HTML object>"
            ],
            "text/html": [
              "\n",
              "            <style>\n",
              "                .geemap-dark {\n",
              "                    --jp-widgets-color: white;\n",
              "                    --jp-widgets-label-color: white;\n",
              "                    --jp-ui-font-color1: white;\n",
              "                    --jp-layout-color2: #454545;\n",
              "                    background-color: #383838;\n",
              "                }\n",
              "                    \n",
              "                .geemap-dark .jupyter-button {\n",
              "                    --jp-layout-color3: #383838;\n",
              "                }\n",
              "                \n",
              "                .geemap-colab {\n",
              "                    background-color: var(--colab-primary-surface-color, white);\n",
              "                }\n",
              "                    \n",
              "                .geemap-colab .jupyter-button {\n",
              "                    --jp-layout-color3: var(--colab-primary-surface-color, white);\n",
              "                }\n",
              "            </style>\n",
              "            "
            ]
          },
          "metadata": {}
        }
      ]
    },
    {
      "cell_type": "code",
      "source": [
        "# Define the width of each bar and the positions of the bars\n",
        "bar_width = 0.3\n",
        "index = np.arange(len(model_names))\n",
        "train_color = 'darkred'\n",
        "validation_color = 'grey'\n",
        "\n",
        "# Plotting\n",
        "plt.figure(figsize=(8, 5))\n",
        "bars1 = plt.bar(index, train_accuracies, bar_width, label='Train Accuracy', color=train_color, alpha=0.8)\n",
        "bars2 = plt.bar(index + bar_width, validation_accuracies, bar_width, label='Validation Accuracy', color=validation_color, alpha=0.8)\n",
        "\n",
        "# Add percentage values on top of the bars\n",
        "for bar1, bar2 in zip(bars1, bars2):\n",
        "    plt.text(bar1.get_x() + bar1.get_width() / 2, bar1.get_height() + 0.01, f'{bar1.get_height():.2%}', ha='center', color='black', fontsize=10)\n",
        "    plt.text(bar2.get_x() + bar2.get_width() / 2, bar2.get_height() + 0.01, f'{bar2.get_height():.2%}', ha='center', color='black', fontsize=10)\n",
        "\n",
        "plt.xlabel('Models')\n",
        "plt.ylabel('Accuracy')\n",
        "plt.title('Performance of Various Supervised Classification Models')\n",
        "plt.xticks(index + bar_width / 2, model_names)\n",
        "plt.legend()\n",
        "plt.tight_layout()\n",
        "plt.show()"
      ],
      "metadata": {
        "colab": {
          "base_uri": "https://localhost:8080/",
          "height": 507
        },
        "id": "ZkSTmsJYjDXo",
        "outputId": "aaae9cd2-63d2-4ff0-976e-8dee17dec9f7"
      },
      "execution_count": null,
      "outputs": [
        {
          "output_type": "display_data",
          "data": {
            "text/plain": [
              "<IPython.core.display.HTML object>"
            ],
            "text/html": [
              "\n",
              "            <style>\n",
              "                .geemap-dark {\n",
              "                    --jp-widgets-color: white;\n",
              "                    --jp-widgets-label-color: white;\n",
              "                    --jp-ui-font-color1: white;\n",
              "                    --jp-layout-color2: #454545;\n",
              "                    background-color: #383838;\n",
              "                }\n",
              "                    \n",
              "                .geemap-dark .jupyter-button {\n",
              "                    --jp-layout-color3: #383838;\n",
              "                }\n",
              "                \n",
              "                .geemap-colab {\n",
              "                    background-color: var(--colab-primary-surface-color, white);\n",
              "                }\n",
              "                    \n",
              "                .geemap-colab .jupyter-button {\n",
              "                    --jp-layout-color3: var(--colab-primary-surface-color, white);\n",
              "                }\n",
              "            </style>\n",
              "            "
            ]
          },
          "metadata": {}
        },
        {
          "output_type": "display_data",
          "data": {
            "text/plain": [
              "<Figure size 800x500 with 1 Axes>"
            ],
            "image/png": "[encoded data removed]"
          },
          "metadata": {}
        }
      ]
    },
    {
      "cell_type": "code",
      "source": [
        "# Plot confusion matrix\n",
        "import numpy as np\n",
        "from sklearn.metrics import ConfusionMatrixDisplay\n",
        "display_labels = [\"hoop\", \"mulch\", \"other\"]"
      ],
      "metadata": {
        "colab": {
          "base_uri": "https://localhost:8080/",
          "height": 17
        },
        "id": "4ByYuLPV5pJ9",
        "outputId": "47a4abf1-4338-481c-868c-b6f587949c5b"
      },
      "execution_count": null,
      "outputs": [
        {
          "output_type": "display_data",
          "data": {
            "text/plain": [
              "<IPython.core.display.HTML object>"
            ],
            "text/html": [
              "\n",
              "            <style>\n",
              "                .geemap-dark {\n",
              "                    --jp-widgets-color: white;\n",
              "                    --jp-widgets-label-color: white;\n",
              "                    --jp-ui-font-color1: white;\n",
              "                    --jp-layout-color2: #454545;\n",
              "                    background-color: #383838;\n",
              "                }\n",
              "                    \n",
              "                .geemap-dark .jupyter-button {\n",
              "                    --jp-layout-color3: #383838;\n",
              "                }\n",
              "                \n",
              "                .geemap-colab {\n",
              "                    background-color: var(--colab-primary-surface-color, white);\n",
              "                }\n",
              "                    \n",
              "                .geemap-colab .jupyter-button {\n",
              "                    --jp-layout-color3: var(--colab-primary-surface-color, white);\n",
              "                }\n",
              "            </style>\n",
              "            "
            ]
          },
          "metadata": {}
        }
      ]
    },
    {
      "cell_type": "code",
      "source": [
        "# Accuracy for Model 3: RF\n",
        "trained_RF, trainAccuracy_RF = train_model(ee.Classifier.smileRandomForest(50), training, bands)\n",
        "classifications_RF, validationAccuracy_RF = evaluate_model(trained_RF, validation)\n",
        "print(\"RF:\")\n",
        "print(f\"\\tTraining accuracy:{trainAccuracy_RF.accuracy().getInfo()}\")\n",
        "print(f\"\\tValidation accuracy:{validationAccuracy_RF.accuracy().getInfo()}\")"
      ],
      "metadata": {
        "colab": {
          "base_uri": "https://localhost:8080/",
          "height": 69
        },
        "id": "uHDXaatAJFOG",
        "outputId": "2b83ad3f-867c-4c95-e805-e45a0cc6b2bd"
      },
      "execution_count": null,
      "outputs": [
        {
          "output_type": "display_data",
          "data": {
            "text/plain": [
              "<IPython.core.display.HTML object>"
            ],
            "text/html": [
              "\n",
              "            <style>\n",
              "                .geemap-dark {\n",
              "                    --jp-widgets-color: white;\n",
              "                    --jp-widgets-label-color: white;\n",
              "                    --jp-ui-font-color1: white;\n",
              "                    --jp-layout-color2: #454545;\n",
              "                    background-color: #383838;\n",
              "                }\n",
              "                    \n",
              "                .geemap-dark .jupyter-button {\n",
              "                    --jp-layout-color3: #383838;\n",
              "                }\n",
              "                \n",
              "                .geemap-colab {\n",
              "                    background-color: var(--colab-primary-surface-color, white);\n",
              "                }\n",
              "                    \n",
              "                .geemap-colab .jupyter-button {\n",
              "                    --jp-layout-color3: var(--colab-primary-surface-color, white);\n",
              "                }\n",
              "            </style>\n",
              "            "
            ]
          },
          "metadata": {}
        },
        {
          "output_type": "stream",
          "name": "stdout",
          "text": [
            "RF:\n",
            "\tTraining accuracy:0.9946341463414634\n",
            "\tValidation accuracy:0.892358803986711\n"
          ]
        }
      ]
    },
    {
      "cell_type": "code",
      "source": [
        "cm_RF = np.array(validationAccuracy_RF.getInfo())\n",
        "disp = ConfusionMatrixDisplay(confusion_matrix=cm_RF,\n",
        "                              display_labels=display_labels)\n",
        "disp.plot(cmap=plt.cm.Greys)\n",
        "disp.ax_.set_title(f\"RF Confusion Matrix ({validationAccuracy_RF.accuracy().getInfo():.2%} Accuracy)\")"
      ],
      "metadata": {
        "colab": {
          "base_uri": "https://localhost:8080/",
          "height": 489
        },
        "id": "QQ9_LOAtzUuc",
        "outputId": "6a3de1a1-7930-4879-98e4-6ca32cd27149"
      },
      "execution_count": null,
      "outputs": [
        {
          "output_type": "display_data",
          "data": {
            "text/plain": [
              "<IPython.core.display.HTML object>"
            ],
            "text/html": [
              "\n",
              "            <style>\n",
              "                .geemap-dark {\n",
              "                    --jp-widgets-color: white;\n",
              "                    --jp-widgets-label-color: white;\n",
              "                    --jp-ui-font-color1: white;\n",
              "                    --jp-layout-color2: #454545;\n",
              "                    background-color: #383838;\n",
              "                }\n",
              "                    \n",
              "                .geemap-dark .jupyter-button {\n",
              "                    --jp-layout-color3: #383838;\n",
              "                }\n",
              "                \n",
              "                .geemap-colab {\n",
              "                    background-color: var(--colab-primary-surface-color, white);\n",
              "                }\n",
              "                    \n",
              "                .geemap-colab .jupyter-button {\n",
              "                    --jp-layout-color3: var(--colab-primary-surface-color, white);\n",
              "                }\n",
              "            </style>\n",
              "            "
            ]
          },
          "metadata": {}
        },
        {
          "output_type": "execute_result",
          "data": {
            "text/plain": [
              "Text(0.5, 1.0, 'RF Confusion Matrix (89.24% Accuracy)')"
            ]
          },
          "metadata": {},
          "execution_count": 111
        },
        {
          "output_type": "display_data",
          "data": {
            "text/plain": [
              "<Figure size 640x480 with 2 Axes>"
            ],
            "image/png": "[encoded data removed]"
          },
          "metadata": {}
        }
      ]
    },
    {
      "cell_type": "code",
      "source": [
        "import matplotlib.pyplot as plt\n",
        "def plot_each_county_cm(cm_Counties):\n",
        "  f, axes = plt.subplots(1, 4, figsize=(20, 5), sharey='row')\n",
        "\n",
        "  for i, (county, cm) in enumerate(cm_Counties.items()):\n",
        "      disp = ConfusionMatrixDisplay(confusion_matrix=np.array(cm.getInfo()),\n",
        "                                    display_labels=display_labels)\n",
        "      disp.plot(ax=axes[i], cmap=plt.cm.Blues)\n",
        "      disp.ax_.set_title(f\"{county} ({cm.accuracy().getInfo():.2%} Accuracy)\")\n",
        "      disp.im_.colorbar.remove()\n",
        "      disp.ax_.set_xlabel('')\n",
        "      if i!=0:\n",
        "          disp.ax_.set_ylabel('')\n",
        "\n",
        "  f.text(0.4, 0.1, 'Predicted label', ha='left')\n",
        "  plt.subplots_adjust(wspace=0.2, hspace=0.1)\n",
        "\n",
        "  f.colorbar(disp.im_, ax=axes)\n",
        "  plt.show()"
      ],
      "metadata": {
        "colab": {
          "base_uri": "https://localhost:8080/",
          "height": 17
        },
        "id": "EBfFkY-oLDwX",
        "outputId": "c08b3572-3df6-4f27-85a7-299e90079865"
      },
      "execution_count": null,
      "outputs": [
        {
          "output_type": "display_data",
          "data": {
            "text/plain": [
              "<IPython.core.display.HTML object>"
            ],
            "text/html": [
              "\n",
              "            <style>\n",
              "                .geemap-dark {\n",
              "                    --jp-widgets-color: white;\n",
              "                    --jp-widgets-label-color: white;\n",
              "                    --jp-ui-font-color1: white;\n",
              "                    --jp-layout-color2: #454545;\n",
              "                    background-color: #383838;\n",
              "                }\n",
              "                    \n",
              "                .geemap-dark .jupyter-button {\n",
              "                    --jp-layout-color3: #383838;\n",
              "                }\n",
              "                \n",
              "                .geemap-colab {\n",
              "                    background-color: var(--colab-primary-surface-color, white);\n",
              "                }\n",
              "                    \n",
              "                .geemap-colab .jupyter-button {\n",
              "                    --jp-layout-color3: var(--colab-primary-surface-color, white);\n",
              "                }\n",
              "            </style>\n",
              "            "
            ]
          },
          "metadata": {}
        }
      ]
    },
    {
      "cell_type": "code",
      "source": [
        "cm_SantaMaria = classifications_RF.filter(filter_SantaMaria).errorMatrix('class', 'classification')\n",
        "cm_Mendocino = classifications_RF.filter(filter_Mendocino).errorMatrix('class', 'classification')\n",
        "cm_Watsonville = classifications_RF.filter(filter_Watsonville).errorMatrix('class', 'classification')\n",
        "cm_Oxnard = classifications_RF.filter(filter_Oxnard).errorMatrix('class', 'classification')\n",
        "cm_Counties = {\"Santa Maria\": cm_SantaMaria, \"Mendocino\": cm_Mendocino, \"Watsonville\": cm_Watsonville, \"Oxnard\": cm_Oxnard}"
      ],
      "metadata": {
        "colab": {
          "base_uri": "https://localhost:8080/",
          "height": 17
        },
        "id": "OC4A431S6q-E",
        "outputId": "88867ee8-bf27-4b41-ce0a-233c7a6f72e0"
      },
      "execution_count": null,
      "outputs": [
        {
          "output_type": "display_data",
          "data": {
            "text/plain": [
              "<IPython.core.display.HTML object>"
            ],
            "text/html": [
              "\n",
              "            <style>\n",
              "                .geemap-dark {\n",
              "                    --jp-widgets-color: white;\n",
              "                    --jp-widgets-label-color: white;\n",
              "                    --jp-ui-font-color1: white;\n",
              "                    --jp-layout-color2: #454545;\n",
              "                    background-color: #383838;\n",
              "                }\n",
              "                    \n",
              "                .geemap-dark .jupyter-button {\n",
              "                    --jp-layout-color3: #383838;\n",
              "                }\n",
              "                \n",
              "                .geemap-colab {\n",
              "                    background-color: var(--colab-primary-surface-color, white);\n",
              "                }\n",
              "                    \n",
              "                .geemap-colab .jupyter-button {\n",
              "                    --jp-layout-color3: var(--colab-primary-surface-color, white);\n",
              "                }\n",
              "            </style>\n",
              "            "
            ]
          },
          "metadata": {}
        }
      ]
    },
    {
      "cell_type": "code",
      "source": [
        "plot_each_county_cm(cm_Counties)"
      ],
      "metadata": {
        "colab": {
          "base_uri": "https://localhost:8080/",
          "height": 316
        },
        "id": "JbIHCqtBMayo",
        "outputId": "ce4906b0-ce0b-4f07-d847-e00c293c668d"
      },
      "execution_count": null,
      "outputs": [
        {
          "output_type": "display_data",
          "data": {
            "text/plain": [
              "<IPython.core.display.HTML object>"
            ],
            "text/html": [
              "\n",
              "            <style>\n",
              "                .geemap-dark {\n",
              "                    --jp-widgets-color: white;\n",
              "                    --jp-widgets-label-color: white;\n",
              "                    --jp-ui-font-color1: white;\n",
              "                    --jp-layout-color2: #454545;\n",
              "                    background-color: #383838;\n",
              "                }\n",
              "                    \n",
              "                .geemap-dark .jupyter-button {\n",
              "                    --jp-layout-color3: #383838;\n",
              "                }\n",
              "                \n",
              "                .geemap-colab {\n",
              "                    background-color: var(--colab-primary-surface-color, white);\n",
              "                }\n",
              "                    \n",
              "                .geemap-colab .jupyter-button {\n",
              "                    --jp-layout-color3: var(--colab-primary-surface-color, white);\n",
              "                }\n",
              "            </style>\n",
              "            "
            ]
          },
          "metadata": {}
        },
        {
          "output_type": "display_data",
          "data": {
            "text/plain": [
              "<Figure size 2000x500 with 5 Axes>"
            ],
            "image/png": "[encoded data removed]"
          },
          "metadata": {}
        }
      ]
    },
    {
      "cell_type": "code",
      "source": [
        "validationAccuracy_RF.fscore().getInfo()"
      ],
      "metadata": {
        "colab": {
          "base_uri": "https://localhost:8080/",
          "height": 34
        },
        "id": "w8LZMuC5yAUv",
        "outputId": "f1da1c9a-36fc-4d62-a19f-c2d461664d4d"
      },
      "execution_count": null,
      "outputs": [
        {
          "output_type": "display_data",
          "data": {
            "text/plain": [
              "<IPython.core.display.HTML object>"
            ],
            "text/html": [
              "\n",
              "            <style>\n",
              "                .geemap-dark {\n",
              "                    --jp-widgets-color: white;\n",
              "                    --jp-widgets-label-color: white;\n",
              "                    --jp-ui-font-color1: white;\n",
              "                    --jp-layout-color2: #454545;\n",
              "                    background-color: #383838;\n",
              "                }\n",
              "                    \n",
              "                .geemap-dark .jupyter-button {\n",
              "                    --jp-layout-color3: #383838;\n",
              "                }\n",
              "                \n",
              "                .geemap-colab {\n",
              "                    background-color: var(--colab-primary-surface-color, white);\n",
              "                }\n",
              "                    \n",
              "                .geemap-colab .jupyter-button {\n",
              "                    --jp-layout-color3: var(--colab-primary-surface-color, white);\n",
              "                }\n",
              "            </style>\n",
              "            "
            ]
          },
          "metadata": {}
        },
        {
          "output_type": "execute_result",
          "data": {
            "text/plain": [
              "[0.9096045197740114, 0.8854282536151278, 0.8880969351389879]"
            ]
          },
          "metadata": {},
          "execution_count": 38
        }
      ]
    },
    {
      "cell_type": "markdown",
      "source": [
        "# Data Augmentation"
      ],
      "metadata": {
        "id": "2Bted12QNLzB"
      }
    },
    {
      "cell_type": "markdown",
      "source": [
        "## Distance to coast"
      ],
      "metadata": {
        "id": "7FzkzMGVPfA1"
      }
    },
    {
      "cell_type": "code",
      "source": [
        "# RF with Data Augmentation (distance to coast)\n",
        "trained_RF_coast, trainAccuracy_RF_coast = train_model(ee.Classifier.smileRandomForest(50), training, bands + ['distance_to_coast'])\n",
        "classifications_RF_coast, validationAccuracy_RF_coast = evaluate_model(trained_RF_coast, validation)\n",
        "print(\"RF with Data Augmentation (distance to coast):\")\n",
        "print(f\"\\tTraining accuracy:{trainAccuracy_RF_coast.accuracy().getInfo()}\")\n",
        "print(f\"\\tValidation accuracy:{validationAccuracy_RF_coast.accuracy().getInfo()}\")"
      ],
      "metadata": {
        "colab": {
          "base_uri": "https://localhost:8080/",
          "height": 69
        },
        "id": "lwfjAu_Ct78h",
        "outputId": "53bb6a65-b27b-4ee0-effb-76cf8f25cbb0"
      },
      "execution_count": null,
      "outputs": [
        {
          "output_type": "display_data",
          "data": {
            "text/plain": [
              "<IPython.core.display.HTML object>"
            ],
            "text/html": [
              "\n",
              "            <style>\n",
              "                .geemap-dark {\n",
              "                    --jp-widgets-color: white;\n",
              "                    --jp-widgets-label-color: white;\n",
              "                    --jp-ui-font-color1: white;\n",
              "                    --jp-layout-color2: #454545;\n",
              "                    background-color: #383838;\n",
              "                }\n",
              "                    \n",
              "                .geemap-dark .jupyter-button {\n",
              "                    --jp-layout-color3: #383838;\n",
              "                }\n",
              "                \n",
              "                .geemap-colab {\n",
              "                    background-color: var(--colab-primary-surface-color, white);\n",
              "                }\n",
              "                    \n",
              "                .geemap-colab .jupyter-button {\n",
              "                    --jp-layout-color3: var(--colab-primary-surface-color, white);\n",
              "                }\n",
              "            </style>\n",
              "            "
            ]
          },
          "metadata": {}
        },
        {
          "output_type": "stream",
          "name": "stdout",
          "text": [
            "RF with Data Augmentation (distance to coast):\n",
            "\tTraining accuracy:0.9956076134699854\n",
            "\tValidation accuracy:0.9122923588039867\n"
          ]
        }
      ]
    },
    {
      "cell_type": "code",
      "source": [
        "disp = ConfusionMatrixDisplay(confusion_matrix=np.array(validationAccuracy_RF_coast.getInfo()), display_labels = [\"hoop\", \"mulch\", \"other\"])\n",
        "disp.plot()\n",
        "disp.ax_.set_title(\"RF Confusion Matrix with Data Augmentation (All 4 counties)\")"
      ],
      "metadata": {
        "colab": {
          "base_uri": "https://localhost:8080/",
          "height": 489
        },
        "id": "k_r8tvs5zEUq",
        "outputId": "5572be8e-11cc-431e-f110-4c5b4dc5124e"
      },
      "execution_count": null,
      "outputs": [
        {
          "output_type": "display_data",
          "data": {
            "text/plain": [
              "<IPython.core.display.HTML object>"
            ],
            "text/html": [
              "\n",
              "            <style>\n",
              "                .geemap-dark {\n",
              "                    --jp-widgets-color: white;\n",
              "                    --jp-widgets-label-color: white;\n",
              "                    --jp-ui-font-color1: white;\n",
              "                    --jp-layout-color2: #454545;\n",
              "                    background-color: #383838;\n",
              "                }\n",
              "                    \n",
              "                .geemap-dark .jupyter-button {\n",
              "                    --jp-layout-color3: #383838;\n",
              "                }\n",
              "                \n",
              "                .geemap-colab {\n",
              "                    background-color: var(--colab-primary-surface-color, white);\n",
              "                }\n",
              "                    \n",
              "                .geemap-colab .jupyter-button {\n",
              "                    --jp-layout-color3: var(--colab-primary-surface-color, white);\n",
              "                }\n",
              "            </style>\n",
              "            "
            ]
          },
          "metadata": {}
        },
        {
          "output_type": "execute_result",
          "data": {
            "text/plain": [
              "Text(0.5, 1.0, 'RF Confusion Matrix with Data Augmentation (All 4 counties)')"
            ]
          },
          "metadata": {},
          "execution_count": 48
        },
        {
          "output_type": "display_data",
          "data": {
            "text/plain": [
              "<Figure size 640x480 with 2 Axes>"
            ],
            "image/png": "[encoded data removed]"
          },
          "metadata": {}
        }
      ]
    },
    {
      "cell_type": "code",
      "source": [
        "cm_SantaMaria_coast = classifications_RF_coast.filter(filter_SantaMaria).errorMatrix('class', 'classification')\n",
        "cm_Mendocino_coast = classifications_RF_coast.filter(filter_Mendocino).errorMatrix('class', 'classification')\n",
        "cm_Watsonville_coast = classifications_RF_coast.filter(filter_Watsonville).errorMatrix('class', 'classification')\n",
        "cm_Oxnard_coast = classifications_RF_coast.filter(filter_Oxnard).errorMatrix('class', 'classification')\n",
        "cm_Counties_coast = {\"Santa Maria\": cm_SantaMaria_coast, \"Mendocino\": cm_Mendocino_coast, \"Watsonville\": cm_Watsonville_coast, \"Oxnard\": cm_Oxnard_coast}"
      ],
      "metadata": {
        "colab": {
          "base_uri": "https://localhost:8080/",
          "height": 17
        },
        "id": "DpQET0rjwsFq",
        "outputId": "1ea36629-2e4b-47aa-b9ad-d8a810a168cb"
      },
      "execution_count": null,
      "outputs": [
        {
          "output_type": "display_data",
          "data": {
            "text/plain": [
              "<IPython.core.display.HTML object>"
            ],
            "text/html": [
              "\n",
              "            <style>\n",
              "                .geemap-dark {\n",
              "                    --jp-widgets-color: white;\n",
              "                    --jp-widgets-label-color: white;\n",
              "                    --jp-ui-font-color1: white;\n",
              "                    --jp-layout-color2: #454545;\n",
              "                    background-color: #383838;\n",
              "                }\n",
              "                    \n",
              "                .geemap-dark .jupyter-button {\n",
              "                    --jp-layout-color3: #383838;\n",
              "                }\n",
              "                \n",
              "                .geemap-colab {\n",
              "                    background-color: var(--colab-primary-surface-color, white);\n",
              "                }\n",
              "                    \n",
              "                .geemap-colab .jupyter-button {\n",
              "                    --jp-layout-color3: var(--colab-primary-surface-color, white);\n",
              "                }\n",
              "            </style>\n",
              "            "
            ]
          },
          "metadata": {}
        }
      ]
    },
    {
      "cell_type": "code",
      "source": [
        "plot_each_county_cm(cm_Counties_coast)"
      ],
      "metadata": {
        "colab": {
          "base_uri": "https://localhost:8080/",
          "height": 284
        },
        "id": "wW8d_GfEy6K9",
        "outputId": "dad17594-bc68-4ef5-88a7-c1dfcc9e5b9f"
      },
      "execution_count": null,
      "outputs": [
        {
          "output_type": "display_data",
          "data": {
            "text/plain": [
              "<IPython.core.display.HTML object>"
            ],
            "text/html": [
              "\n",
              "            <style>\n",
              "                .geemap-dark {\n",
              "                    --jp-widgets-color: white;\n",
              "                    --jp-widgets-label-color: white;\n",
              "                    --jp-ui-font-color1: white;\n",
              "                    --jp-layout-color2: #454545;\n",
              "                    background-color: #383838;\n",
              "                }\n",
              "                    \n",
              "                .geemap-dark .jupyter-button {\n",
              "                    --jp-layout-color3: #383838;\n",
              "                }\n",
              "                \n",
              "                .geemap-colab {\n",
              "                    background-color: var(--colab-primary-surface-color, white);\n",
              "                }\n",
              "                    \n",
              "                .geemap-colab .jupyter-button {\n",
              "                    --jp-layout-color3: var(--colab-primary-surface-color, white);\n",
              "                }\n",
              "            </style>\n",
              "            "
            ]
          },
          "metadata": {}
        },
        {
          "output_type": "display_data",
          "data": {
            "text/plain": [
              "<Figure size 2000x500 with 5 Axes>"
            ],
            "image/png": "[encoded data removed]"
          },
          "metadata": {}
        }
      ]
    },
    {
      "cell_type": "markdown",
      "source": [
        "## Elevation"
      ],
      "metadata": {
        "id": "ctW41MoTPq82"
      }
    },
    {
      "cell_type": "code",
      "source": [
        "# RF with Data Augmentation (elevation)\n",
        "trained_RF_elevation, trainAccuracy_RF_elevation = train_model(ee.Classifier.smileRandomForest(50), training, bands + ['elevation'])\n",
        "classifications_RF_elevation, validationAccuracy_RF_elevation = evaluate_model(trained_RF_elevation, validation)\n",
        "print(\"RF with Data Augmentation (elevation):\")\n",
        "print(f\"\\tTraining accuracy:{trainAccuracy_RF_elevation.accuracy().getInfo()}\")\n",
        "print(f\"\\tValidation accuracy:{validationAccuracy_RF_elevation.accuracy().getInfo()}\")"
      ],
      "metadata": {
        "colab": {
          "base_uri": "https://localhost:8080/",
          "height": 69
        },
        "id": "vorf2O2DPAqK",
        "outputId": "780e4afd-3e52-41d4-e55d-ed361498989d"
      },
      "execution_count": null,
      "outputs": [
        {
          "output_type": "display_data",
          "data": {
            "text/plain": [
              "<IPython.core.display.HTML object>"
            ],
            "text/html": [
              "\n",
              "            <style>\n",
              "                .geemap-dark {\n",
              "                    --jp-widgets-color: white;\n",
              "                    --jp-widgets-label-color: white;\n",
              "                    --jp-ui-font-color1: white;\n",
              "                    --jp-layout-color2: #454545;\n",
              "                    background-color: #383838;\n",
              "                }\n",
              "                    \n",
              "                .geemap-dark .jupyter-button {\n",
              "                    --jp-layout-color3: #383838;\n",
              "                }\n",
              "                \n",
              "                .geemap-colab {\n",
              "                    background-color: var(--colab-primary-surface-color, white);\n",
              "                }\n",
              "                    \n",
              "                .geemap-colab .jupyter-button {\n",
              "                    --jp-layout-color3: var(--colab-primary-surface-color, white);\n",
              "                }\n",
              "            </style>\n",
              "            "
            ]
          },
          "metadata": {}
        },
        {
          "output_type": "stream",
          "name": "stdout",
          "text": [
            "RF with Data Augmentation (elevation):\n",
            "\tTraining accuracy:0.9965836993655441\n",
            "\tValidation accuracy:0.8950166112956811\n"
          ]
        }
      ]
    },
    {
      "cell_type": "code",
      "source": [
        "cm_SantaMaria_elevation = classifications_RF_elevation.filter(filter_SantaMaria).errorMatrix('class', 'classification')\n",
        "cm_Mendocino_elevation = classifications_RF_elevation.filter(filter_Mendocino).errorMatrix('class', 'classification')\n",
        "cm_Watsonville_elevation = classifications_RF_elevation.filter(filter_Watsonville).errorMatrix('class', 'classification')\n",
        "cm_Oxnard_elevation = classifications_RF_elevation.filter(filter_Oxnard).errorMatrix('class', 'classification')\n",
        "cm_Counties_elevation = {\"Santa Maria\": cm_SantaMaria_elevation, \"Mendocino\": cm_Mendocino_elevation, \"Watsonville\": cm_Watsonville_elevation, \"Oxnard\": cm_Oxnard_elevation}"
      ],
      "metadata": {
        "colab": {
          "base_uri": "https://localhost:8080/",
          "height": 17
        },
        "id": "kH0T5obMPwpv",
        "outputId": "de4c42cb-cdf0-44b7-f91a-be3118c837b6"
      },
      "execution_count": null,
      "outputs": [
        {
          "output_type": "display_data",
          "data": {
            "text/plain": [
              "<IPython.core.display.HTML object>"
            ],
            "text/html": [
              "\n",
              "            <style>\n",
              "                .geemap-dark {\n",
              "                    --jp-widgets-color: white;\n",
              "                    --jp-widgets-label-color: white;\n",
              "                    --jp-ui-font-color1: white;\n",
              "                    --jp-layout-color2: #454545;\n",
              "                    background-color: #383838;\n",
              "                }\n",
              "                    \n",
              "                .geemap-dark .jupyter-button {\n",
              "                    --jp-layout-color3: #383838;\n",
              "                }\n",
              "                \n",
              "                .geemap-colab {\n",
              "                    background-color: var(--colab-primary-surface-color, white);\n",
              "                }\n",
              "                    \n",
              "                .geemap-colab .jupyter-button {\n",
              "                    --jp-layout-color3: var(--colab-primary-surface-color, white);\n",
              "                }\n",
              "            </style>\n",
              "            "
            ]
          },
          "metadata": {}
        }
      ]
    },
    {
      "cell_type": "code",
      "source": [
        "plot_each_county_cm(cm_Counties_elevation)"
      ],
      "metadata": {
        "colab": {
          "base_uri": "https://localhost:8080/",
          "height": 284
        },
        "id": "3BILkOfHQCC7",
        "outputId": "2ce8321d-9f27-4333-aa73-2fb02f2c9638"
      },
      "execution_count": null,
      "outputs": [
        {
          "output_type": "display_data",
          "data": {
            "text/plain": [
              "<IPython.core.display.HTML object>"
            ],
            "text/html": [
              "\n",
              "            <style>\n",
              "                .geemap-dark {\n",
              "                    --jp-widgets-color: white;\n",
              "                    --jp-widgets-label-color: white;\n",
              "                    --jp-ui-font-color1: white;\n",
              "                    --jp-layout-color2: #454545;\n",
              "                    background-color: #383838;\n",
              "                }\n",
              "                    \n",
              "                .geemap-dark .jupyter-button {\n",
              "                    --jp-layout-color3: #383838;\n",
              "                }\n",
              "                \n",
              "                .geemap-colab {\n",
              "                    background-color: var(--colab-primary-surface-color, white);\n",
              "                }\n",
              "                    \n",
              "                .geemap-colab .jupyter-button {\n",
              "                    --jp-layout-color3: var(--colab-primary-surface-color, white);\n",
              "                }\n",
              "            </style>\n",
              "            "
            ]
          },
          "metadata": {}
        },
        {
          "output_type": "display_data",
          "data": {
            "text/plain": [
              "<Figure size 2000x500 with 5 Axes>"
            ],
            "image/png": "[encoded data removed]"
          },
          "metadata": {}
        }
      ]
    },
    {
      "cell_type": "markdown",
      "source": [
        "## Distance to Coast + Elevation"
      ],
      "metadata": {
        "id": "GKnExbWYPwPj"
      }
    },
    {
      "cell_type": "code",
      "source": [
        "# RF with Data Augmentation (distance to coast + elevation)\n",
        "trained_RF_all, trainAccuracy_RF_all = train_model(ee.Classifier.smileRandomForest(50), training, bands + ['distance_to_coast', 'elevation'])\n",
        "classifications_RF_all, validationAccuracy_RF_all = evaluate_model(trained_RF_all, validation)\n",
        "print(\"RF with Data Augmentation (distance to coast + elevation):\")\n",
        "print(f\"\\tTraining accuracy:{trainAccuracy_RF_all.accuracy().getInfo()}\")\n",
        "print(f\"\\tValidation accuracy:{validationAccuracy_RF_all.accuracy().getInfo()}\")"
      ],
      "metadata": {
        "colab": {
          "base_uri": "https://localhost:8080/",
          "height": 69
        },
        "id": "mLcwaWXUQEWJ",
        "outputId": "ecc14eb8-bef5-40a3-8715-ffbcf11de653"
      },
      "execution_count": null,
      "outputs": [
        {
          "output_type": "display_data",
          "data": {
            "text/plain": [
              "<IPython.core.display.HTML object>"
            ],
            "text/html": [
              "\n",
              "            <style>\n",
              "                .geemap-dark {\n",
              "                    --jp-widgets-color: white;\n",
              "                    --jp-widgets-label-color: white;\n",
              "                    --jp-ui-font-color1: white;\n",
              "                    --jp-layout-color2: #454545;\n",
              "                    background-color: #383838;\n",
              "                }\n",
              "                    \n",
              "                .geemap-dark .jupyter-button {\n",
              "                    --jp-layout-color3: #383838;\n",
              "                }\n",
              "                \n",
              "                .geemap-colab {\n",
              "                    background-color: var(--colab-primary-surface-color, white);\n",
              "                }\n",
              "                    \n",
              "                .geemap-colab .jupyter-button {\n",
              "                    --jp-layout-color3: var(--colab-primary-surface-color, white);\n",
              "                }\n",
              "            </style>\n",
              "            "
            ]
          },
          "metadata": {}
        },
        {
          "output_type": "stream",
          "name": "stdout",
          "text": [
            "RF with Data Augmentation (distance to coast + elevation):\n",
            "\tTraining accuracy:0.9970717423133236\n",
            "\tValidation accuracy:0.9162790697674419\n"
          ]
        }
      ]
    },
    {
      "cell_type": "code",
      "source": [
        "cm_RF_all = np.array(validationAccuracy_RF_all.getInfo())\n",
        "disp = ConfusionMatrixDisplay(confusion_matrix=cm_RF_all,\n",
        "                              display_labels=display_labels)\n",
        "disp.plot(cmap=plt.cm.Blues)\n",
        "disp.ax_.set_title(f\"RF with Geographical Features\\nConfusion Matrix ({validationAccuracy_RF_all.accuracy().getInfo():.2%} Accuracy)\")"
      ],
      "metadata": {
        "colab": {
          "base_uri": "https://localhost:8080/",
          "height": 510
        },
        "id": "NFz4E1ALqdwB",
        "outputId": "90c9ca82-4444-496a-92f8-d86451d6b00a"
      },
      "execution_count": null,
      "outputs": [
        {
          "output_type": "display_data",
          "data": {
            "text/plain": [
              "<IPython.core.display.HTML object>"
            ],
            "text/html": [
              "\n",
              "            <style>\n",
              "                .geemap-dark {\n",
              "                    --jp-widgets-color: white;\n",
              "                    --jp-widgets-label-color: white;\n",
              "                    --jp-ui-font-color1: white;\n",
              "                    --jp-layout-color2: #454545;\n",
              "                    background-color: #383838;\n",
              "                }\n",
              "                    \n",
              "                .geemap-dark .jupyter-button {\n",
              "                    --jp-layout-color3: #383838;\n",
              "                }\n",
              "                \n",
              "                .geemap-colab {\n",
              "                    background-color: var(--colab-primary-surface-color, white);\n",
              "                }\n",
              "                    \n",
              "                .geemap-colab .jupyter-button {\n",
              "                    --jp-layout-color3: var(--colab-primary-surface-color, white);\n",
              "                }\n",
              "            </style>\n",
              "            "
            ]
          },
          "metadata": {}
        },
        {
          "output_type": "execute_result",
          "data": {
            "text/plain": [
              "Text(0.5, 1.0, 'RF with Geographical Features\\nConfusion Matrix (91.63% Accuracy)')"
            ]
          },
          "metadata": {},
          "execution_count": 46
        },
        {
          "output_type": "display_data",
          "data": {
            "text/plain": [
              "<Figure size 640x480 with 2 Axes>"
            ],
            "image/png": "[encoded data removed]"
          },
          "metadata": {}
        }
      ]
    },
    {
      "cell_type": "code",
      "source": [
        "cm_SantaMaria_all = classifications_RF_all.filter(filter_SantaMaria).errorMatrix('class', 'classification')\n",
        "cm_Mendocino_all = classifications_RF_all.filter(filter_Mendocino).errorMatrix('class', 'classification')\n",
        "cm_Watsonville_all = classifications_RF_all.filter(filter_Watsonville).errorMatrix('class', 'classification')\n",
        "cm_Oxnard_all = classifications_RF_all.filter(filter_Oxnard).errorMatrix('class', 'classification')\n",
        "cm_Counties_all = {\"Santa Maria\": cm_SantaMaria_all, \"Mendocino\": cm_Mendocino_all, \"Watsonville\": cm_Watsonville_all, \"Oxnard\": cm_Oxnard_all}"
      ],
      "metadata": {
        "colab": {
          "base_uri": "https://localhost:8080/",
          "height": 17
        },
        "id": "r2bHYAboQuS-",
        "outputId": "27a05d4a-9b92-4969-c086-41842527ccb2"
      },
      "execution_count": null,
      "outputs": [
        {
          "output_type": "display_data",
          "data": {
            "text/plain": [
              "<IPython.core.display.HTML object>"
            ],
            "text/html": [
              "\n",
              "            <style>\n",
              "                .geemap-dark {\n",
              "                    --jp-widgets-color: white;\n",
              "                    --jp-widgets-label-color: white;\n",
              "                    --jp-ui-font-color1: white;\n",
              "                    --jp-layout-color2: #454545;\n",
              "                    background-color: #383838;\n",
              "                }\n",
              "                    \n",
              "                .geemap-dark .jupyter-button {\n",
              "                    --jp-layout-color3: #383838;\n",
              "                }\n",
              "                \n",
              "                .geemap-colab {\n",
              "                    background-color: var(--colab-primary-surface-color, white);\n",
              "                }\n",
              "                    \n",
              "                .geemap-colab .jupyter-button {\n",
              "                    --jp-layout-color3: var(--colab-primary-surface-color, white);\n",
              "                }\n",
              "            </style>\n",
              "            "
            ]
          },
          "metadata": {}
        }
      ]
    },
    {
      "cell_type": "code",
      "source": [
        "plot_each_county_cm(cm_Counties_all)"
      ],
      "metadata": {
        "colab": {
          "base_uri": "https://localhost:8080/",
          "height": 284
        },
        "id": "neFvol_-Q63j",
        "outputId": "b0b83ab3-b2df-4d62-afbe-ecaca7bc00bc"
      },
      "execution_count": null,
      "outputs": [
        {
          "output_type": "display_data",
          "data": {
            "text/plain": [
              "<IPython.core.display.HTML object>"
            ],
            "text/html": [
              "\n",
              "            <style>\n",
              "                .geemap-dark {\n",
              "                    --jp-widgets-color: white;\n",
              "                    --jp-widgets-label-color: white;\n",
              "                    --jp-ui-font-color1: white;\n",
              "                    --jp-layout-color2: #454545;\n",
              "                    background-color: #383838;\n",
              "                }\n",
              "                    \n",
              "                .geemap-dark .jupyter-button {\n",
              "                    --jp-layout-color3: #383838;\n",
              "                }\n",
              "                \n",
              "                .geemap-colab {\n",
              "                    background-color: var(--colab-primary-surface-color, white);\n",
              "                }\n",
              "                    \n",
              "                .geemap-colab .jupyter-button {\n",
              "                    --jp-layout-color3: var(--colab-primary-surface-color, white);\n",
              "                }\n",
              "            </style>\n",
              "            "
            ]
          },
          "metadata": {}
        },
        {
          "output_type": "display_data",
          "data": {
            "text/plain": [
              "<Figure size 2000x500 with 5 Axes>"
            ],
            "image/png": "[encoded data removed]"
          },
          "metadata": {}
        }
      ]
    },
    {
      "cell_type": "code",
      "source": [
        "# Define the counties and their accuracy values (without and with augmentation)\n",
        "counties = [\"Santa Maria\", \"Mendocino\", \"Watsonville\", \"Oxnard\"]\n",
        "accuracy_before_augmentation = [cm_SantaMaria.accuracy().getInfo(),\n",
        "                              cm_Mendocino.accuracy().getInfo(),\n",
        "                              cm_Watsonville.accuracy().getInfo(),\n",
        "                              cm_Oxnard.accuracy().getInfo(),]\n",
        "accuracy_after_augmentation = [cm_SantaMaria_all.accuracy().getInfo(),\n",
        "                              cm_Mendocino_all.accuracy().getInfo(),\n",
        "                              cm_Watsonville_all.accuracy().getInfo(),\n",
        "                              cm_Oxnard_all.accuracy().getInfo(),]"
      ],
      "metadata": {
        "colab": {
          "base_uri": "https://localhost:8080/",
          "height": 17
        },
        "id": "5IveDQML48RC",
        "outputId": "21273235-ff90-4eaa-b451-9a1af131458e"
      },
      "execution_count": null,
      "outputs": [
        {
          "output_type": "display_data",
          "data": {
            "text/plain": [
              "<IPython.core.display.HTML object>"
            ],
            "text/html": [
              "\n",
              "            <style>\n",
              "                .geemap-dark {\n",
              "                    --jp-widgets-color: white;\n",
              "                    --jp-widgets-label-color: white;\n",
              "                    --jp-ui-font-color1: white;\n",
              "                    --jp-layout-color2: #454545;\n",
              "                    background-color: #383838;\n",
              "                }\n",
              "                    \n",
              "                .geemap-dark .jupyter-button {\n",
              "                    --jp-layout-color3: #383838;\n",
              "                }\n",
              "                \n",
              "                .geemap-colab {\n",
              "                    background-color: var(--colab-primary-surface-color, white);\n",
              "                }\n",
              "                    \n",
              "                .geemap-colab .jupyter-button {\n",
              "                    --jp-layout-color3: var(--colab-primary-surface-color, white);\n",
              "                }\n",
              "            </style>\n",
              "            "
            ]
          },
          "metadata": {}
        }
      ]
    },
    {
      "cell_type": "code",
      "source": [
        "# Set the width of the bars and the positions of the bars\n",
        "bar_width = 0.3\n",
        "index = np.arange(len(counties))\n",
        "\n",
        "# Create the grouped bar chart\n",
        "plt.figure(figsize=(8, 5))\n",
        "bars1 = plt.bar(index, accuracy_before_augmentation, bar_width, label='Before', color='grey', alpha=0.8)\n",
        "bars2 = plt.bar(index + bar_width, accuracy_after_augmentation, bar_width, label='After', color='navy', alpha=0.8)\n",
        "\n",
        "# Add percentage values on top of the bars\n",
        "for bar1, bar2 in zip(bars1, bars2):\n",
        "    plt.text(bar1.get_x() + bar1.get_width() / 2, bar1.get_height() + 0.01, f'{bar1.get_height():.2%}', ha='center', color='black', fontsize=10)\n",
        "    plt.text(bar2.get_x() + bar2.get_width() / 2, bar2.get_height() + 0.01, f'{bar2.get_height():.2%}', ha='center', color='black', fontsize=10)\n",
        "\n",
        "# Add labels, titles, and legend\n",
        "plt.xlabel('Region')\n",
        "plt.ylabel('Validation Accuracies')\n",
        "plt.title('Model Accuracy Improvement with Data Augmentation by Region')\n",
        "plt.xticks(index + bar_width / 2, counties)\n",
        "plt.legend()\n",
        "\n",
        "# Display the chart\n",
        "plt.tight_layout()\n",
        "plt.show()"
      ],
      "metadata": {
        "colab": {
          "base_uri": "https://localhost:8080/",
          "height": 507
        },
        "id": "GH-x4fdDTXL4",
        "outputId": "a4805123-10a8-4b8d-c3ea-9c8ab6d9c1a4"
      },
      "execution_count": null,
      "outputs": [
        {
          "output_type": "display_data",
          "data": {
            "text/plain": [
              "<IPython.core.display.HTML object>"
            ],
            "text/html": [
              "\n",
              "            <style>\n",
              "                .geemap-dark {\n",
              "                    --jp-widgets-color: white;\n",
              "                    --jp-widgets-label-color: white;\n",
              "                    --jp-ui-font-color1: white;\n",
              "                    --jp-layout-color2: #454545;\n",
              "                    background-color: #383838;\n",
              "                }\n",
              "                    \n",
              "                .geemap-dark .jupyter-button {\n",
              "                    --jp-layout-color3: #383838;\n",
              "                }\n",
              "                \n",
              "                .geemap-colab {\n",
              "                    background-color: var(--colab-primary-surface-color, white);\n",
              "                }\n",
              "                    \n",
              "                .geemap-colab .jupyter-button {\n",
              "                    --jp-layout-color3: var(--colab-primary-surface-color, white);\n",
              "                }\n",
              "            </style>\n",
              "            "
            ]
          },
          "metadata": {}
        },
        {
          "output_type": "display_data",
          "data": {
            "text/plain": [
              "<Figure size 800x500 with 1 Axes>"
            ],
            "image/png": "[encoded data removed]"
          },
          "metadata": {}
        }
      ]
    },
    {
      "cell_type": "markdown",
      "source": [
        "# Save Model"
      ],
      "metadata": {
        "id": "MbrmDkD6AJcD"
      }
    },
    {
      "cell_type": "code",
      "source": [
        "def save_classifier(classifier, model_name, drive_folder):\n",
        "  trees = ee.List(ee.Dictionary(classifier.explain()).get('trees'))\n",
        "  dummy = ee.Feature(None)\n",
        "  col = ee.FeatureCollection(trees.map(lambda x:  dummy.set('tree',x)))\n",
        "  task = ee.batch.Export.table.toDrive(\n",
        "    collection=col,\n",
        "    description=model_name,\n",
        "    folder=drive_folder\n",
        "  )\n",
        "  task.start()"
      ],
      "metadata": {
        "colab": {
          "base_uri": "https://localhost:8080/",
          "height": 17
        },
        "id": "8y2uvtKdJoAz",
        "outputId": "78ae4703-cd56-47a3-db23-4b565bf79457"
      },
      "execution_count": null,
      "outputs": [
        {
          "output_type": "display_data",
          "data": {
            "text/plain": [
              "<IPython.core.display.HTML object>"
            ],
            "text/html": [
              "\n",
              "            <style>\n",
              "                .geemap-dark {\n",
              "                    --jp-widgets-color: white;\n",
              "                    --jp-widgets-label-color: white;\n",
              "                    --jp-ui-font-color1: white;\n",
              "                    --jp-layout-color2: #454545;\n",
              "                    background-color: #383838;\n",
              "                }\n",
              "                    \n",
              "                .geemap-dark .jupyter-button {\n",
              "                    --jp-layout-color3: #383838;\n",
              "                }\n",
              "                \n",
              "                .geemap-colab {\n",
              "                    background-color: var(--colab-primary-surface-color, white);\n",
              "                }\n",
              "                    \n",
              "                .geemap-colab .jupyter-button {\n",
              "                    --jp-layout-color3: var(--colab-primary-surface-color, white);\n",
              "                }\n",
              "            </style>\n",
              "            "
            ]
          },
          "metadata": {}
        }
      ]
    },
    {
      "cell_type": "code",
      "source": [
        "save_classifier(trained_RF, \"trained_RF\", 'tnc-models')\n",
        "save_classifier(trained_RF_all, \"trained_RF_augmented\", 'tnc-models')"
      ],
      "metadata": {
        "colab": {
          "base_uri": "https://localhost:8080/",
          "height": 17
        },
        "id": "mAoNs8iARWI4",
        "outputId": "f5af00b9-a842-4bcd-bd87-357275ab55b0"
      },
      "execution_count": null,
      "outputs": [
        {
          "output_type": "display_data",
          "data": {
            "text/plain": [
              "<IPython.core.display.HTML object>"
            ],
            "text/html": [
              "\n",
              "            <style>\n",
              "                .geemap-dark {\n",
              "                    --jp-widgets-color: white;\n",
              "                    --jp-widgets-label-color: white;\n",
              "                    --jp-ui-font-color1: white;\n",
              "                    --jp-layout-color2: #454545;\n",
              "                    background-color: #383838;\n",
              "                }\n",
              "                    \n",
              "                .geemap-dark .jupyter-button {\n",
              "                    --jp-layout-color3: #383838;\n",
              "                }\n",
              "                \n",
              "                .geemap-colab {\n",
              "                    background-color: var(--colab-primary-surface-color, white);\n",
              "                }\n",
              "                    \n",
              "                .geemap-colab .jupyter-button {\n",
              "                    --jp-layout-color3: var(--colab-primary-surface-color, white);\n",
              "                }\n",
              "            </style>\n",
              "            "
            ]
          },
          "metadata": {}
        }
      ]
    }
  ]
}